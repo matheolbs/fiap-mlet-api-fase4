{
 "cells": [
  {
   "cell_type": "code",
   "execution_count": 1,
   "id": "36a2bce3",
   "metadata": {},
   "outputs": [],
   "source": [
    "import numpy as np\n",
    "import pandas as pd\n",
    "import yfinance as yf\n",
    "import random\n",
    "from sklearn.preprocessing import MinMaxScaler\n",
    "from sklearn.metrics import mean_absolute_percentage_error\n",
    "from tensorflow.keras.models import Sequential\n",
    "from tensorflow.keras.layers import LSTM, Dense, Dropout\n",
    "from tensorflow.keras.optimizers import Adam\n",
    "from tensorflow.keras.callbacks import EarlyStopping"
   ]
  },
  {
   "cell_type": "code",
   "execution_count": 2,
   "id": "5e3ad95d",
   "metadata": {},
   "outputs": [],
   "source": [
    "symbol = 'AAPL'\n",
    "start_date = '2015-01-01'\n",
    "end_date = '2023-12-31'\n",
    "n_iter = 10  # Número de combinações a testar"
   ]
  },
  {
   "cell_type": "code",
   "execution_count": 3,
   "id": "188c1b3c",
   "metadata": {},
   "outputs": [
    {
     "name": "stderr",
     "output_type": "stream",
     "text": [
      "C:\\Users\\Marcos Simoneli\\AppData\\Local\\Temp\\ipykernel_31348\\1548301510.py:1: FutureWarning: YF.download() has changed argument auto_adjust default to True\n",
      "  df = yf.download(symbol, start=start_date, end=end_date)\n",
      "[*********************100%***********************]  1 of 1 completed\n"
     ]
    }
   ],
   "source": [
    "df = yf.download(symbol, start=start_date, end=end_date)\n",
    "df = df[['Close']]\n",
    "\n",
    "# Normalização\n",
    "scaler = MinMaxScaler()\n",
    "scaled_data = scaler.fit_transform(df)\n",
    "\n",
    "# Função de janela\n",
    "def create_dataset(data, time_step):\n",
    "    X, y = [], []\n",
    "    for i in range(time_step, len(data)):\n",
    "        X.append(data[i-time_step:i, 0])\n",
    "        y.append(data[i, 0])\n",
    "    return np.array(X), np.array(y)"
   ]
  },
  {
   "cell_type": "code",
   "execution_count": 4,
   "id": "3a3b4eae",
   "metadata": {},
   "outputs": [
    {
     "name": "stderr",
     "output_type": "stream",
     "text": [
      "c:\\Users\\Marcos Simoneli\\OneDrive\\Documentos\\Machine Learning\\.venv\\Lib\\site-packages\\keras\\src\\layers\\rnn\\rnn.py:199: UserWarning: Do not pass an `input_shape`/`input_dim` argument to a layer. When using Sequential models, prefer using an `Input(shape)` object as the first layer in the model instead.\n",
      "  super().__init__(**kwargs)\n"
     ]
    },
    {
     "name": "stdout",
     "output_type": "stream",
     "text": [
      "\n",
      "🔁 Execução 1/10\n",
      "\u001b[1m15/15\u001b[0m \u001b[32m━━━━━━━━━━━━━━━━━━━━\u001b[0m\u001b[37m\u001b[0m \u001b[1m0s\u001b[0m 9ms/step\n",
      "MAPE: 2.9282%  | time_step=30, lstm=50, dropout=0.3, batch=64, lr=0.001\n",
      "\n",
      "🔁 Execução 2/10\n"
     ]
    },
    {
     "name": "stderr",
     "output_type": "stream",
     "text": [
      "c:\\Users\\Marcos Simoneli\\OneDrive\\Documentos\\Machine Learning\\.venv\\Lib\\site-packages\\keras\\src\\layers\\rnn\\rnn.py:199: UserWarning: Do not pass an `input_shape`/`input_dim` argument to a layer. When using Sequential models, prefer using an `Input(shape)` object as the first layer in the model instead.\n",
      "  super().__init__(**kwargs)\n"
     ]
    },
    {
     "name": "stdout",
     "output_type": "stream",
     "text": [
      "\u001b[1m15/15\u001b[0m \u001b[32m━━━━━━━━━━━━━━━━━━━━\u001b[0m\u001b[37m\u001b[0m \u001b[1m0s\u001b[0m 16ms/step\n",
      "MAPE: 2.3164%  | time_step=60, lstm=128, dropout=0.1, batch=32, lr=0.001\n",
      "\n",
      "🔁 Execução 3/10\n"
     ]
    },
    {
     "name": "stderr",
     "output_type": "stream",
     "text": [
      "c:\\Users\\Marcos Simoneli\\OneDrive\\Documentos\\Machine Learning\\.venv\\Lib\\site-packages\\keras\\src\\layers\\rnn\\rnn.py:199: UserWarning: Do not pass an `input_shape`/`input_dim` argument to a layer. When using Sequential models, prefer using an `Input(shape)` object as the first layer in the model instead.\n",
      "  super().__init__(**kwargs)\n"
     ]
    },
    {
     "name": "stdout",
     "output_type": "stream",
     "text": [
      "\u001b[1m15/15\u001b[0m \u001b[32m━━━━━━━━━━━━━━━━━━━━\u001b[0m\u001b[37m\u001b[0m \u001b[1m0s\u001b[0m 13ms/step\n",
      "MAPE: 2.7294%  | time_step=60, lstm=100, dropout=0.2, batch=64, lr=0.0005\n",
      "\n",
      "🔁 Execução 4/10\n"
     ]
    },
    {
     "name": "stderr",
     "output_type": "stream",
     "text": [
      "c:\\Users\\Marcos Simoneli\\OneDrive\\Documentos\\Machine Learning\\.venv\\Lib\\site-packages\\keras\\src\\layers\\rnn\\rnn.py:199: UserWarning: Do not pass an `input_shape`/`input_dim` argument to a layer. When using Sequential models, prefer using an `Input(shape)` object as the first layer in the model instead.\n",
      "  super().__init__(**kwargs)\n"
     ]
    },
    {
     "name": "stdout",
     "output_type": "stream",
     "text": [
      "\u001b[1m15/15\u001b[0m \u001b[32m━━━━━━━━━━━━━━━━━━━━\u001b[0m\u001b[37m\u001b[0m \u001b[1m0s\u001b[0m 11ms/step\n",
      "MAPE: 1.6289%  | time_step=90, lstm=50, dropout=0.1, batch=16, lr=0.001\n",
      "\n",
      "🔁 Execução 5/10\n"
     ]
    },
    {
     "name": "stderr",
     "output_type": "stream",
     "text": [
      "c:\\Users\\Marcos Simoneli\\OneDrive\\Documentos\\Machine Learning\\.venv\\Lib\\site-packages\\keras\\src\\layers\\rnn\\rnn.py:199: UserWarning: Do not pass an `input_shape`/`input_dim` argument to a layer. When using Sequential models, prefer using an `Input(shape)` object as the first layer in the model instead.\n",
      "  super().__init__(**kwargs)\n"
     ]
    },
    {
     "name": "stdout",
     "output_type": "stream",
     "text": [
      "\u001b[1m15/15\u001b[0m \u001b[32m━━━━━━━━━━━━━━━━━━━━\u001b[0m\u001b[37m\u001b[0m \u001b[1m0s\u001b[0m 8ms/step\n",
      "MAPE: 2.9375%  | time_step=30, lstm=64, dropout=0.5, batch=64, lr=0.001\n",
      "\n",
      "🔁 Execução 6/10\n"
     ]
    },
    {
     "name": "stderr",
     "output_type": "stream",
     "text": [
      "c:\\Users\\Marcos Simoneli\\OneDrive\\Documentos\\Machine Learning\\.venv\\Lib\\site-packages\\keras\\src\\layers\\rnn\\rnn.py:199: UserWarning: Do not pass an `input_shape`/`input_dim` argument to a layer. When using Sequential models, prefer using an `Input(shape)` object as the first layer in the model instead.\n",
      "  super().__init__(**kwargs)\n"
     ]
    },
    {
     "name": "stdout",
     "output_type": "stream",
     "text": [
      "\u001b[1m15/15\u001b[0m \u001b[32m━━━━━━━━━━━━━━━━━━━━\u001b[0m\u001b[37m\u001b[0m \u001b[1m0s\u001b[0m 8ms/step\n",
      "MAPE: 2.7411%  | time_step=30, lstm=64, dropout=0.3, batch=16, lr=0.0005\n",
      "\n",
      "🔁 Execução 7/10\n"
     ]
    },
    {
     "name": "stderr",
     "output_type": "stream",
     "text": [
      "c:\\Users\\Marcos Simoneli\\OneDrive\\Documentos\\Machine Learning\\.venv\\Lib\\site-packages\\keras\\src\\layers\\rnn\\rnn.py:199: UserWarning: Do not pass an `input_shape`/`input_dim` argument to a layer. When using Sequential models, prefer using an `Input(shape)` object as the first layer in the model instead.\n",
      "  super().__init__(**kwargs)\n"
     ]
    },
    {
     "name": "stdout",
     "output_type": "stream",
     "text": [
      "\u001b[1m15/15\u001b[0m \u001b[32m━━━━━━━━━━━━━━━━━━━━\u001b[0m\u001b[37m\u001b[0m \u001b[1m0s\u001b[0m 10ms/step\n",
      "MAPE: 3.0572%  | time_step=60, lstm=50, dropout=0.2, batch=64, lr=0.0005\n",
      "\n",
      "🔁 Execução 8/10\n"
     ]
    },
    {
     "name": "stderr",
     "output_type": "stream",
     "text": [
      "c:\\Users\\Marcos Simoneli\\OneDrive\\Documentos\\Machine Learning\\.venv\\Lib\\site-packages\\keras\\src\\layers\\rnn\\rnn.py:199: UserWarning: Do not pass an `input_shape`/`input_dim` argument to a layer. When using Sequential models, prefer using an `Input(shape)` object as the first layer in the model instead.\n",
      "  super().__init__(**kwargs)\n"
     ]
    },
    {
     "name": "stdout",
     "output_type": "stream",
     "text": [
      "\u001b[1m15/15\u001b[0m \u001b[32m━━━━━━━━━━━━━━━━━━━━\u001b[0m\u001b[37m\u001b[0m \u001b[1m0s\u001b[0m 11ms/step\n",
      "MAPE: 2.5873%  | time_step=60, lstm=100, dropout=0.2, batch=16, lr=0.0005\n",
      "\n",
      "🔁 Execução 9/10\n"
     ]
    },
    {
     "name": "stderr",
     "output_type": "stream",
     "text": [
      "c:\\Users\\Marcos Simoneli\\OneDrive\\Documentos\\Machine Learning\\.venv\\Lib\\site-packages\\keras\\src\\layers\\rnn\\rnn.py:199: UserWarning: Do not pass an `input_shape`/`input_dim` argument to a layer. When using Sequential models, prefer using an `Input(shape)` object as the first layer in the model instead.\n",
      "  super().__init__(**kwargs)\n"
     ]
    },
    {
     "name": "stdout",
     "output_type": "stream",
     "text": [
      "\u001b[1m15/15\u001b[0m \u001b[32m━━━━━━━━━━━━━━━━━━━━\u001b[0m\u001b[37m\u001b[0m \u001b[1m0s\u001b[0m 13ms/step\n",
      "MAPE: 2.4811%  | time_step=90, lstm=100, dropout=0.5, batch=32, lr=0.001\n",
      "\n",
      "🔁 Execução 10/10\n"
     ]
    },
    {
     "name": "stderr",
     "output_type": "stream",
     "text": [
      "c:\\Users\\Marcos Simoneli\\OneDrive\\Documentos\\Machine Learning\\.venv\\Lib\\site-packages\\keras\\src\\layers\\rnn\\rnn.py:199: UserWarning: Do not pass an `input_shape`/`input_dim` argument to a layer. When using Sequential models, prefer using an `Input(shape)` object as the first layer in the model instead.\n",
      "  super().__init__(**kwargs)\n"
     ]
    },
    {
     "name": "stdout",
     "output_type": "stream",
     "text": [
      "\u001b[1m15/15\u001b[0m \u001b[32m━━━━━━━━━━━━━━━━━━━━\u001b[0m\u001b[37m\u001b[0m \u001b[1m0s\u001b[0m 13ms/step\n",
      "MAPE: 2.3485%  | time_step=90, lstm=100, dropout=0.3, batch=16, lr=0.0005\n"
     ]
    }
   ],
   "source": [
    "best_mape = float('inf')\n",
    "best_config = None\n",
    "\n",
    "for i in range(n_iter):\n",
    "    print(f\"\\n🔁 Execução {i+1}/{n_iter}\")\n",
    "\n",
    "    # Hiperparâmetros aleatórios\n",
    "    time_step = random.choice([30, 60, 90])\n",
    "    lstm_units = random.choice([50, 64, 100, 128])\n",
    "    dropout_rate = random.choice([0.1, 0.2, 0.3, 0.5])\n",
    "    batch_size = random.choice([16, 32, 64])\n",
    "    learning_rate = random.choice([0.001, 0.0005, 0.0001])\n",
    "    epochs = 50\n",
    "\n",
    "    # Dados\n",
    "    train_size = int(len(scaled_data) * 0.8)\n",
    "    train_data = scaled_data[:train_size]\n",
    "    test_data = scaled_data[train_size - time_step:]\n",
    "\n",
    "    X_train, y_train = create_dataset(train_data, time_step)\n",
    "    X_test, y_test = create_dataset(test_data, time_step)\n",
    "\n",
    "    X_train = X_train.reshape((X_train.shape[0], X_train.shape[1], 1))\n",
    "    X_test = X_test.reshape((X_test.shape[0], X_test.shape[1], 1))\n",
    "\n",
    "    # Modelo\n",
    "    model = Sequential()\n",
    "    model.add(LSTM(units=lstm_units, return_sequences=False, input_shape=(time_step, 1)))\n",
    "    model.add(Dropout(dropout_rate))\n",
    "    model.add(Dense(1))\n",
    "\n",
    "    optimizer = Adam(learning_rate=learning_rate)\n",
    "    model.compile(optimizer=optimizer, loss='mean_squared_error')\n",
    "\n",
    "    es = EarlyStopping(monitor='val_loss', patience=5, restore_best_weights=True)\n",
    "\n",
    "    model.fit(X_train, y_train, \n",
    "              epochs=epochs, \n",
    "              batch_size=batch_size, \n",
    "              validation_split=0.1, \n",
    "              verbose=0, \n",
    "              callbacks=[es])\n",
    "\n",
    "    # Avaliação\n",
    "    predictions = model.predict(X_test)\n",
    "    predictions = scaler.inverse_transform(predictions)\n",
    "    real_prices = scaler.inverse_transform(y_test.reshape(-1, 1))\n",
    "    mape = mean_absolute_percentage_error(real_prices, predictions)\n",
    "\n",
    "    print(f\"MAPE: {mape:.4%}  | time_step={time_step}, lstm={lstm_units}, dropout={dropout_rate}, batch={batch_size}, lr={learning_rate}\")\n",
    "\n",
    "    if mape < best_mape:\n",
    "        best_mape = mape\n",
    "        best_config = {\n",
    "            'MAPE': mape,\n",
    "            'time_step': time_step,\n",
    "            'lstm_units': lstm_units,\n",
    "            'dropout': dropout_rate,\n",
    "            'batch_size': batch_size,\n",
    "            'learning_rate': learning_rate\n",
    "        }"
   ]
  },
  {
   "cell_type": "code",
   "execution_count": 5,
   "id": "df2ca5f6",
   "metadata": {},
   "outputs": [
    {
     "name": "stdout",
     "output_type": "stream",
     "text": [
      "\n",
      "✅ MELHOR CONFIGURAÇÃO:\n",
      "MAPE: 0.0163\n",
      "time_step: 90\n",
      "lstm_units: 50\n",
      "dropout: 0.1\n",
      "batch_size: 16\n",
      "learning_rate: 0.001\n"
     ]
    }
   ],
   "source": [
    "print(\"\\n✅ MELHOR CONFIGURAÇÃO:\")\n",
    "for k, v in best_config.items():\n",
    "    if isinstance(v, float):\n",
    "        print(f\"{k}: {v:.4f}\" if 'MAPE' in k else f\"{k}: {v}\")\n",
    "    else:\n",
    "        print(f\"{k}: {v}\")"
   ]
  }
 ],
 "metadata": {
  "kernelspec": {
   "display_name": ".venv",
   "language": "python",
   "name": "python3"
  },
  "language_info": {
   "codemirror_mode": {
    "name": "ipython",
    "version": 3
   },
   "file_extension": ".py",
   "mimetype": "text/x-python",
   "name": "python",
   "nbconvert_exporter": "python",
   "pygments_lexer": "ipython3",
   "version": "3.11.0rc1"
  }
 },
 "nbformat": 4,
 "nbformat_minor": 5
}
