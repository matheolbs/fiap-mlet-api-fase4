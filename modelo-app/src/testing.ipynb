{
 "cells": [
  {
   "cell_type": "markdown",
   "id": "8ba7171f",
   "metadata": {},
   "source": [
    "##Baixando libs necessárias"
   ]
  },
  {
   "cell_type": "code",
   "execution_count": 2,
   "id": "ae3d6b76",
   "metadata": {},
   "outputs": [
    {
     "name": "stdout",
     "output_type": "stream",
     "text": [
      "Collecting yfinance\n",
      "  Obtaining dependency information for yfinance from https://files.pythonhosted.org/packages/c9/1e/631c80e0f97aef46eb73549b9b0f60d94057294e040740f4cad0cb1f48e4/yfinance-0.2.65-py2.py3-none-any.whl.metadata\n",
      "  Using cached yfinance-0.2.65-py2.py3-none-any.whl.metadata (5.8 kB)\n",
      "Requirement already satisfied: pandas>=1.3.0 in c:\\users\\mathe\\appdata\\local\\programs\\python\\python312\\lib\\site-packages (from yfinance) (2.3.1)\n",
      "Requirement already satisfied: numpy>=1.16.5 in c:\\users\\mathe\\appdata\\local\\programs\\python\\python312\\lib\\site-packages (from yfinance) (2.3.1)\n",
      "Requirement already satisfied: requests>=2.31 in c:\\users\\mathe\\appdata\\local\\programs\\python\\python312\\lib\\site-packages (from yfinance) (2.32.4)\n",
      "Requirement already satisfied: multitasking>=0.0.7 in c:\\users\\mathe\\appdata\\local\\programs\\python\\python312\\lib\\site-packages (from yfinance) (0.0.11)\n",
      "Requirement already satisfied: platformdirs>=2.0.0 in c:\\users\\mathe\\appdata\\roaming\\python\\python312\\site-packages (from yfinance) (4.3.8)\n",
      "Requirement already satisfied: pytz>=2022.5 in c:\\users\\mathe\\appdata\\local\\programs\\python\\python312\\lib\\site-packages (from yfinance) (2025.2)\n",
      "Requirement already satisfied: frozendict>=2.3.4 in c:\\users\\mathe\\appdata\\local\\programs\\python\\python312\\lib\\site-packages (from yfinance) (2.4.6)\n",
      "Requirement already satisfied: peewee>=3.16.2 in c:\\users\\mathe\\appdata\\local\\programs\\python\\python312\\lib\\site-packages (from yfinance) (3.18.2)\n",
      "Collecting beautifulsoup4>=4.11.1 (from yfinance)\n",
      "  Obtaining dependency information for beautifulsoup4>=4.11.1 from https://files.pythonhosted.org/packages/50/cd/30110dc0ffcf3b131156077b90e9f60ed75711223f306da4db08eff8403b/beautifulsoup4-4.13.4-py3-none-any.whl.metadata\n",
      "  Using cached beautifulsoup4-4.13.4-py3-none-any.whl.metadata (3.8 kB)\n",
      "Collecting curl_cffi>=0.7 (from yfinance)\n",
      "  Obtaining dependency information for curl_cffi>=0.7 from https://files.pythonhosted.org/packages/22/6e/0194d04312fbf6eed0d0fea6dfd361795fcfd53e9dca259a8ad45ff1ccca/curl_cffi-0.12.0-cp39-abi3-win_amd64.whl.metadata\n",
      "  Using cached curl_cffi-0.12.0-cp39-abi3-win_amd64.whl.metadata (15 kB)\n",
      "Requirement already satisfied: protobuf>=3.19.0 in c:\\users\\mathe\\appdata\\local\\programs\\python\\python312\\lib\\site-packages (from yfinance) (6.31.1)\n",
      "Requirement already satisfied: websockets>=13.0 in c:\\users\\mathe\\appdata\\local\\programs\\python\\python312\\lib\\site-packages (from yfinance) (15.0.1)\n",
      "Requirement already satisfied: soupsieve>1.2 in c:\\users\\mathe\\appdata\\local\\programs\\python\\python312\\lib\\site-packages (from beautifulsoup4>=4.11.1->yfinance) (2.7)\n",
      "Requirement already satisfied: typing-extensions>=4.0.0 in c:\\users\\mathe\\appdata\\local\\programs\\python\\python312\\lib\\site-packages (from beautifulsoup4>=4.11.1->yfinance) (4.14.1)\n",
      "Collecting cffi>=1.12.0 (from curl_cffi>=0.7->yfinance)\n",
      "  Obtaining dependency information for cffi>=1.12.0 from https://files.pythonhosted.org/packages/50/b9/db34c4755a7bd1cb2d1603ac3863f22bcecbd1ba29e5ee841a4bc510b294/cffi-1.17.1-cp312-cp312-win_amd64.whl.metadata\n",
      "  Using cached cffi-1.17.1-cp312-cp312-win_amd64.whl.metadata (1.6 kB)\n",
      "Requirement already satisfied: certifi>=2024.2.2 in c:\\users\\mathe\\appdata\\local\\programs\\python\\python312\\lib\\site-packages (from curl_cffi>=0.7->yfinance) (2025.7.9)\n",
      "Requirement already satisfied: python-dateutil>=2.8.2 in c:\\users\\mathe\\appdata\\roaming\\python\\python312\\site-packages (from pandas>=1.3.0->yfinance) (2.9.0.post0)\n",
      "Requirement already satisfied: tzdata>=2022.7 in c:\\users\\mathe\\appdata\\local\\programs\\python\\python312\\lib\\site-packages (from pandas>=1.3.0->yfinance) (2025.2)\n",
      "Requirement already satisfied: charset_normalizer<4,>=2 in c:\\users\\mathe\\appdata\\local\\programs\\python\\python312\\lib\\site-packages (from requests>=2.31->yfinance) (3.4.2)\n",
      "Requirement already satisfied: idna<4,>=2.5 in c:\\users\\mathe\\appdata\\local\\programs\\python\\python312\\lib\\site-packages (from requests>=2.31->yfinance) (3.10)\n",
      "Requirement already satisfied: urllib3<3,>=1.21.1 in c:\\users\\mathe\\appdata\\local\\programs\\python\\python312\\lib\\site-packages (from requests>=2.31->yfinance) (2.5.0)\n",
      "Requirement already satisfied: pycparser in c:\\users\\mathe\\appdata\\local\\programs\\python\\python312\\lib\\site-packages (from cffi>=1.12.0->curl_cffi>=0.7->yfinance) (2.22)\n",
      "Requirement already satisfied: six>=1.5 in c:\\users\\mathe\\appdata\\roaming\\python\\python312\\site-packages (from python-dateutil>=2.8.2->pandas>=1.3.0->yfinance) (1.17.0)\n",
      "Using cached yfinance-0.2.65-py2.py3-none-any.whl (119 kB)\n",
      "Using cached beautifulsoup4-4.13.4-py3-none-any.whl (187 kB)\n",
      "Using cached curl_cffi-0.12.0-cp39-abi3-win_amd64.whl (1.6 MB)\n",
      "Using cached cffi-1.17.1-cp312-cp312-win_amd64.whl (181 kB)\n",
      "Installing collected packages: cffi, beautifulsoup4, curl_cffi, yfinance\n",
      "Successfully installed beautifulsoup4-4.13.4 cffi-1.17.1 curl_cffi-0.12.0 yfinance-0.2.65\n"
     ]
    },
    {
     "name": "stderr",
     "output_type": "stream",
     "text": [
      "\n",
      "[notice] A new release of pip is available: 23.2.1 -> 25.1.1\n",
      "[notice] To update, run: python.exe -m pip install --upgrade pip\n"
     ]
    }
   ],
   "source": [
    "!pip install yfinance"
   ]
  },
  {
   "cell_type": "markdown",
   "id": "cd7b4bd4",
   "metadata": {},
   "source": [
    "## Pegando dados"
   ]
  },
  {
   "cell_type": "code",
   "execution_count": null,
   "id": "9e98ec06",
   "metadata": {},
   "outputs": [
    {
     "name": "stdout",
     "output_type": "stream",
     "text": [
      "                                 Open        High         Low       Close  \\\n",
      "Date                                                                        \n",
      "2010-01-04 00:00:00-05:00   22.963947   23.323930   22.941447   23.211435   \n",
      "2010-01-05 00:00:00-05:00   23.136447   23.323939   22.978954   23.218943   \n",
      "2010-01-06 00:00:00-05:00   23.158936   23.308930   22.888949   23.076441   \n",
      "2010-01-07 00:00:00-05:00   22.971451   23.023950   22.641467   22.836458   \n",
      "2010-01-08 00:00:00-05:00   22.708969   23.158948   22.678970   22.993956   \n",
      "...                               ...         ...         ...         ...   \n",
      "2020-11-23 00:00:00-05:00  203.127144  204.417448  200.440615  202.318298   \n",
      "2020-11-24 00:00:00-05:00  201.817589  206.304782  201.114664  205.929245   \n",
      "2020-11-25 00:00:00-05:00  207.132833  207.306151  204.581112  205.938812   \n",
      "2020-11-27 00:00:00-05:00  206.882500  208.249839  206.102525  207.248398   \n",
      "2020-11-30 00:00:00-05:00  206.160326  206.795839  203.021210  206.131439   \n",
      "\n",
      "                             Volume  Dividends  Stock Splits  \n",
      "Date                                                          \n",
      "2010-01-04 00:00:00-05:00  38409100        0.0           0.0  \n",
      "2010-01-05 00:00:00-05:00  49749600        0.0           0.0  \n",
      "2010-01-06 00:00:00-05:00  58182400        0.0           0.0  \n",
      "2010-01-07 00:00:00-05:00  50559700        0.0           0.0  \n",
      "2010-01-08 00:00:00-05:00  51197400        0.0           0.0  \n",
      "...                             ...        ...           ...  \n",
      "2020-11-23 00:00:00-05:00  25683500        0.0           0.0  \n",
      "2020-11-24 00:00:00-05:00  33979700        0.0           0.0  \n",
      "2020-11-25 00:00:00-05:00  21012900        0.0           0.0  \n",
      "2020-11-27 00:00:00-05:00  14512200        0.0           0.0  \n",
      "2020-11-30 00:00:00-05:00  33064800        0.0           0.0  \n",
      "\n",
      "[2747 rows x 7 columns]\n"
     ]
    }
   ],
   "source": [
    "import yfinance as yf\n",
    "\n",
    "msft = yf.Ticker(\"MSFT\")\n",
    "\n",
    "hist = msft.history(start='2010-1-1', end='2020-12-1', auto_adjust=True)\n",
    "\n",
    "print(hist)"
   ]
  }
 ],
 "metadata": {
  "kernelspec": {
   "display_name": "Python 3",
   "language": "python",
   "name": "python3"
  },
  "language_info": {
   "codemirror_mode": {
    "name": "ipython",
    "version": 3
   },
   "file_extension": ".py",
   "mimetype": "text/x-python",
   "name": "python",
   "nbconvert_exporter": "python",
   "pygments_lexer": "ipython3",
   "version": "3.12.1"
  }
 },
 "nbformat": 4,
 "nbformat_minor": 5
}
